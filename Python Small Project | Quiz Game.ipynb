{
  "metadata": {
    "kernelspec": {
      "language": "python",
      "display_name": "Python 3",
      "name": "python3"
    },
    "language_info": {
      "name": "python",
      "version": "3.10.14",
      "mimetype": "text/x-python",
      "codemirror_mode": {
        "name": "ipython",
        "version": 3
      },
      "pygments_lexer": "ipython3",
      "nbconvert_exporter": "python",
      "file_extension": ".py"
    },
    "kaggle": {
      "accelerator": "none",
      "dataSources": [],
      "dockerImageVersionId": 30786,
      "isInternetEnabled": true,
      "language": "python",
      "sourceType": "notebook",
      "isGpuEnabled": false
    },
    "colab": {
      "name": "Python Small Project | Quiz Game",
      "provenance": [],
      "include_colab_link": true
    }
  },
  "nbformat_minor": 0,
  "nbformat": 4,
  "cells": [
    {
      "cell_type": "markdown",
      "metadata": {
        "id": "view-in-github",
        "colab_type": "text"
      },
      "source": [
        "<a href=\"https://colab.research.google.com/github/Usman-12478/Small-Python-Project-Quiz-Game/blob/main/Python%20Small%20Project%20%7C%20Quiz%20Game.ipynb\" target=\"_parent\"><img src=\"https://colab.research.google.com/assets/colab-badge.svg\" alt=\"Open In Colab\"/></a>"
      ]
    },
    {
      "cell_type": "code",
      "source": [
        "questions = (\"1. What is the larget mountain peak in Pakistan?\",\n",
        "             \"2. What is the National animal of Pakistan?\",\n",
        "             \"3. When did world war || take place?\",\n",
        "             \"4. What is the capital city of Australia?\",\n",
        "             \"5. What is the larget desert in Pakistan\",\n",
        "             \"6. What is the larget planet in our solar system?\",\n",
        "             \"7. What is the formula of Sodium Chloride?\",\n",
        "             \"8. What is the capital of Saudi Arabia?\",\n",
        "             \"9. What is the capital city of America?\",\n",
        "             \"10. What is the larget river in Paistan?\")\n"
      ],
      "metadata": {
        "_uuid": "8f2839f25d086af736a60e9eeb907d3b93b6e0e5",
        "_cell_guid": "b1076dfc-b9ad-4769-8c92-a6c4dae69d19",
        "execution": {
          "iopub.status.busy": "2024-10-04T12:26:04.127604Z",
          "iopub.execute_input": "2024-10-04T12:26:04.128081Z",
          "iopub.status.idle": "2024-10-04T12:26:04.134783Z",
          "shell.execute_reply.started": "2024-10-04T12:26:04.128037Z",
          "shell.execute_reply": "2024-10-04T12:26:04.133492Z"
        },
        "trusted": true,
        "id": "AYAKE21vg7pB"
      },
      "execution_count": 1,
      "outputs": []
    },
    {
      "cell_type": "code",
      "source": [
        "options = ((\"A. Nanga Parbat\", \"B. Rakaposhi\", \"C. Tirich Mir\", \"D. K2\"),\n",
        "           (\"A. Lion\", \"B. Elephant\", \"C. Markhor\", \"D. Tiger\"),\n",
        "           (\"A. 1935-1940\", \"B. 1939-1945\", \"C. 1940-1945\", \"D. 1945-1950\"),\n",
        "           (\"A. Sydney\", \"B. Melbourne\", \"C. Canberra\", \"D. Perth\"),\n",
        "           (\"A. Thar Desert\", \"B. Cholistan Desert \", \"C. Thal Desert\", \"D. Katpana Desert\"),\n",
        "           (\"A. Earth\", \"B. Jupiter\", \"C. Saturn\", \"D. Uranus\"),\n",
        "           (\"A. NaCl\", \"B. Na2Cl\", \"C. NaCl2\", \"D. Na2Cl2\"),\n",
        "           (\"A. Riyadh\", \"B. Jeddath\", \"C. Mecca\", \"D. Madinah\"),\n",
        "           (\"A. Washington D.C\", \"B. New York City\", \"C. Los Angeles\", \"D. Chicago\"),\n",
        "           (\"A. Ravi River\", \"B. Jhelum River\", \"C. Chenab River\", \"D. Indus River\"))\n"
      ],
      "metadata": {
        "execution": {
          "iopub.status.busy": "2024-10-04T12:26:05.463657Z",
          "iopub.execute_input": "2024-10-04T12:26:05.46411Z",
          "iopub.status.idle": "2024-10-04T12:26:05.47233Z",
          "shell.execute_reply.started": "2024-10-04T12:26:05.464072Z",
          "shell.execute_reply": "2024-10-04T12:26:05.470829Z"
        },
        "trusted": true,
        "id": "3cKBwMQgg7pI"
      },
      "execution_count": 2,
      "outputs": []
    },
    {
      "cell_type": "code",
      "source": [
        "answers = (\"D\", \"C\", \"B\", \"C\", \"A\", \"B\", \"A\", \"A\", \"A\", \"D\")\n",
        "\n",
        "guesses = []\n",
        "\n",
        "score = 0\n",
        "\n",
        "question_num = 0\n",
        "\n",
        "\n",
        "for question in questions:\n",
        "    print('--------------------------------')\n",
        "    print(question)\n",
        "\n",
        "    for option in options[question_num]:\n",
        "        print(option)\n",
        "\n",
        "    guess = input(\"Enter (A, B, C, D):\").upper()\n",
        "    guesses.append(guess)\n",
        "\n",
        "    if guess == answers[question_num]:\n",
        "        score += 1\n",
        "        print('Corect')\n",
        "    else:\n",
        "        print('Incorrect')\n",
        "        print(f'{answers[question_num]} is the correct answer.')\n",
        "    question_num += 1\n",
        "\n",
        "\n",
        "print('-----------------------------')\n",
        "print('           RESULT            ')\n",
        "print('-----------------------------')\n",
        "\n",
        "print('Answers: ', end=\"\")\n",
        "for answer in answers:\n",
        "    print(answer, end=\" \")\n",
        "print()\n",
        "\n",
        "print('Guesses: ', end=\"\")\n",
        "for guess in guesses:\n",
        "    print(guess, end=\" \")\n",
        "print()\n",
        "\n",
        "score = int(score / len(questions) * 100)\n",
        "print(f\"Your Score is {score}%\")"
      ],
      "metadata": {
        "execution": {
          "iopub.status.busy": "2024-10-04T12:26:06.900387Z",
          "iopub.execute_input": "2024-10-04T12:26:06.900879Z",
          "iopub.status.idle": "2024-10-04T12:28:08.039016Z",
          "shell.execute_reply.started": "2024-10-04T12:26:06.900833Z",
          "shell.execute_reply": "2024-10-04T12:28:08.03764Z"
        },
        "trusted": true,
        "colab": {
          "base_uri": "https://localhost:8080/"
        },
        "id": "_wZwL0adg7pK",
        "outputId": "68cf3828-440e-40c9-f19a-e89f73d7f82a"
      },
      "execution_count": 3,
      "outputs": [
        {
          "output_type": "stream",
          "name": "stdout",
          "text": [
            "--------------------------------\n",
            "1. What is the larget mountain peak in Pakistan?\n",
            "A. Nanga Parbat\n",
            "B. Rakaposhi\n",
            "C. Tirich Mir\n",
            "D. K2\n",
            "Enter (A, B, C, D):D\n",
            "Corect\n",
            "--------------------------------\n",
            "2. What is the National animal of Pakistan?\n",
            "A. Lion\n",
            "B. Elephant\n",
            "C. Markhor\n",
            "D. Tiger\n",
            "Enter (A, B, C, D):C\n",
            "Corect\n",
            "--------------------------------\n",
            "3. When did world war || take place?\n",
            "A. 1935-1940\n",
            "B. 1939-1945\n",
            "C. 1940-1945\n",
            "D. 1945-1950\n",
            "Enter (A, B, C, D):a\n",
            "Incorrect\n",
            "B is the correct answer.\n",
            "--------------------------------\n",
            "4. What is the capital city of Australia?\n",
            "A. Sydney\n",
            "B. Melbourne\n",
            "C. Canberra\n",
            "D. Perth\n",
            "Enter (A, B, C, D):b\n",
            "Incorrect\n",
            "C is the correct answer.\n",
            "--------------------------------\n",
            "5. What is the larget desert in Pakistan\n",
            "A. Thar Desert\n",
            "B. Cholistan Desert \n",
            "C. Thal Desert\n",
            "D. Katpana Desert\n",
            "Enter (A, B, C, D):c\n",
            "Incorrect\n",
            "A is the correct answer.\n",
            "--------------------------------\n",
            "6. What is the larget planet in our solar system?\n",
            "A. Earth\n",
            "B. Jupiter\n",
            "C. Saturn\n",
            "D. Uranus\n",
            "Enter (A, B, C, D):d\n",
            "Incorrect\n",
            "B is the correct answer.\n",
            "--------------------------------\n",
            "7. What is the formula of Sodium Chloride?\n",
            "A. NaCl\n",
            "B. Na2Cl\n",
            "C. NaCl2\n",
            "D. Na2Cl2\n",
            "Enter (A, B, C, D):A\n",
            "Corect\n",
            "--------------------------------\n",
            "8. What is the capital of Saudi Arabia?\n",
            "A. Riyadh\n",
            "B. Jeddath\n",
            "C. Mecca\n",
            "D. Madinah\n",
            "Enter (A, B, C, D):A\n",
            "Corect\n",
            "--------------------------------\n",
            "9. What is the capital city of America?\n",
            "A. Washington D.C\n",
            "B. New York City\n",
            "C. Los Angeles\n",
            "D. Chicago\n",
            "Enter (A, B, C, D):A\n",
            "Corect\n",
            "--------------------------------\n",
            "10. What is the larget river in Paistan?\n",
            "A. Ravi River\n",
            "B. Jhelum River\n",
            "C. Chenab River\n",
            "D. Indus River\n",
            "Enter (A, B, C, D):D\n",
            "Corect\n",
            "-----------------------------\n",
            "           RESULT            \n",
            "-----------------------------\n",
            "Answers: D C B C A B A A A D \n",
            "Guesses: D C A B C D A A A D \n",
            "Your Score is 60%\n"
          ]
        }
      ]
    },
    {
      "cell_type": "code",
      "source": [],
      "metadata": {
        "id": "djxUux6Gg7pM"
      },
      "execution_count": null,
      "outputs": []
    }
  ]
}